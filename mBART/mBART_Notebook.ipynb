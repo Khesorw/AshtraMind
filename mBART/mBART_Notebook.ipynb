{
 "cells": [
  {
   "cell_type": "markdown",
   "id": "e718041c",
   "metadata": {},
   "source": [
    "# 1_Setup_and_Testing"
   ]
  },
  {
   "cell_type": "code",
   "execution_count": null,
   "id": "7f056607",
   "metadata": {},
   "outputs": [],
   "source": [
    "# All imports\n",
    "import sys\n",
    "import pip\n",
    "import torch\n",
    "from datasets import get_dataset_split_names, load_dataset, load_dataset_builder, get_dataset_config_names\n",
    "from transformers import pipeline\n",
    "from transformers import AutoModelForSeq2SeqLM, AutoTokenizer, MBart50Tokenizer, MBartForConditionalGeneration\n",
    "\n",
    "print(\"All imports are successful ✅\")\n",
    "\n",
    "print(\"--\" * 50)\n",
    "\n",
    "#---------------------------------------------------------------\n",
    "# Check Python, pip, and pytorch versions and cuda compatibility\n",
    "#---------------------------------------------------------------\n",
    "print(\"Python version:\", sys.version)\n",
    "# Print pip version\n",
    "print(\"Pip version:\", pip.__version__)\n",
    "# Print pytorch version\n",
    "print(\"Pytorch version:\", torch.__version__)\n",
    "# Print CUDA version\n",
    "if torch.cuda.is_available():\n",
    "    print(\"CUDA version:\", torch.version.cuda)\n",
    "else:\n",
    "    print(\"CUDA is not available.\")\n",
    "\n",
    "# Print GPU information\n",
    "if torch.cuda.is_available():\n",
    "    print(\"GPU is available.\")\n",
    "    print(\"Number of GPUs:\", torch.cuda.device_count())\n",
    "    for i in range(torch.cuda.device_count()):\n",
    "        print(f\"GPU {i}: {torch.cuda.get_device_name(i)}\")\n",
    "else:\n",
    "    print(\"No GPU available.\")\n",
    "\n",
    "# Check if pytorch can use CUDA\n",
    "if torch.cuda.is_available():\n",
    "    x = torch.rand(5, 3).cuda()\n",
    "    if x.is_cuda:\n",
    "        print(\"Pytorch can use CUDA ✅Tensor on GPU\")\n",
    "else:\n",
    "    print(\"Pytorch is not using CUDA.\")\n"
   ]
  },
  {
   "cell_type": "markdown",
   "id": "30206b71",
   "metadata": {},
   "source": [
    "# 2_Load_Dataset_and_Preprocess"
   ]
  },
  {
   "cell_type": "code",
   "execution_count": null,
   "id": "80dbfe1d",
   "metadata": {},
   "outputs": [],
   "source": [
    "# https://huggingface.co/docs/datasets/load_hub\n",
    "splits = get_dataset_split_names(\"rahular/itihasa\")\n",
    "print(\"Available dataset splits:\", splits)\n",
    "configs = get_dataset_config_names(\"rahular/itihasa\")\n",
    "print(\"Available dataset configurations:\", configs)"
   ]
  },
  {
   "cell_type": "code",
   "execution_count": null,
   "id": "ec7db925",
   "metadata": {},
   "outputs": [],
   "source": [
    "ds_builder = load_dataset_builder(\"rahular/itihasa\")\n",
    "\n",
    "# Inspect dataset description\n",
    "ds_builder.info.description\n",
    "\n",
    "# Inspect dataset features\n",
    "ds_builder.info.features"
   ]
  },
  {
   "cell_type": "code",
   "execution_count": null,
   "id": "dafb5cb7",
   "metadata": {},
   "outputs": [],
   "source": [
    "from datasets import load_dataset\n",
    "\n",
    "train_dataset = load_dataset(\"rahular/itihasa\", split=\"train\")\n",
    "valid_dataset = load_dataset(\"rahular/itihasa\", split=\"validation\")\n",
    "test_dataset  = load_dataset(\"rahular/itihasa\", split=\"test\")\n",
    "print(\"Datasets loaded successfully ✅.\")\n",
    "\n",
    "print(f\"Train dataset size: {len(train_dataset)}\")\n",
    "print(f\"Validation dataset size: {len(valid_dataset)}\")\n",
    "print(f\"Test dataset size: {len(test_dataset)}\")\n"
   ]
  },
  {
   "cell_type": "code",
   "execution_count": null,
   "id": "cb1a17ff",
   "metadata": {},
   "outputs": [],
   "source": [
    "train_dataset[0]  # Inspect the first example in the train dataset"
   ]
  },
  {
   "cell_type": "code",
   "execution_count": null,
   "id": "195509c8",
   "metadata": {},
   "outputs": [],
   "source": [
    "test_dataset[0]  # Inspect the first example in the test dataset"
   ]
  },
  {
   "cell_type": "code",
   "execution_count": null,
   "id": "5c896d07",
   "metadata": {},
   "outputs": [],
   "source": [
    "valid_dataset[0] # Inspect the first example in the validation dataset"
   ]
  },
  {
   "cell_type": "code",
   "execution_count": null,
   "id": "0e8a56f0",
   "metadata": {},
   "outputs": [],
   "source": [
    "# Indexing the datasets\n",
    "print(train_dataset[0])  # To see the full content of the first example\n",
    "print(\"--\" * 50)\n",
    "print(train_dataset[0][\"translation\"])  # To see the root of the nested dictionary\n",
    "print(\"--\" * 50)\n",
    "print(train_dataset[0][\"translation\"][\"en\"])  # To see the English translation of the first example\n",
    "print(\"--\" * 50)\n",
    "print(train_dataset[0][\"translation\"][\"sn\"])  # To see the Sanskrit translation of the first example\n",
    "print(\"--\" * 50)\n",
    "for i in range(3):\n",
    "    print(f\"Example {i}: (English: {train_dataset[i]['translation']['en']}) (Sanskrit: {train_dataset[i]['translation']['sn']})\")"
   ]
  },
  {
   "cell_type": "markdown",
   "id": "ee5cd3a6",
   "metadata": {},
   "source": [
    "# 3_Modelling_and_Training"
   ]
  },
  {
   "cell_type": "code",
   "execution_count": null,
   "id": "20f1cbca",
   "metadata": {},
   "outputs": [],
   "source": [
    "model = MBartForConditionalGeneration.from_pretrained(\"facebook/mbart-large-50-many-to-many-mmt\")\n",
    "tokenizer = MBart50Tokenizer.from_pretrained(\"facebook/mbart-large-50-many-to-many-mmt\")\n",
    "\n",
    "def translate_text(model, tokenizer, text, src_lang=\"en_XX\", tgt_lang=\"hi_IN\", skip_special_tokens=True):\n",
    "    tokenizer.src_lang = src_lang\n",
    "    tokenizer.tgt_lang = tgt_lang\n",
    "    inputs = tokenizer(text, return_tensors=\"pt\")\n",
    "    \n",
    "    # Force decoder to use target language\n",
    "    output_ids = model.generate(\n",
    "        **inputs,\n",
    "        forced_bos_token_id=tokenizer.lang_code_to_id[tgt_lang]\n",
    "    )\n",
    "\n",
    "    return tokenizer.decode(output_ids[0], skip_special_tokens=skip_special_tokens)\n"
   ]
  },
  {
   "cell_type": "code",
   "execution_count": null,
   "id": "ba7a363e",
   "metadata": {},
   "outputs": [],
   "source": [
    "# Human-readable language names mapped to mBART-50 language codes\n",
    "lang_code_to_name = {\n",
    "    \"ar_AR\": \"Arabic\", \"cs_CZ\": \"Czech\", \"de_DE\": \"German\", \"en_XX\": \"English\", \"es_XX\": \"Spanish\",\n",
    "    \"et_EE\": \"Estonian\", \"fi_FI\": \"Finnish\", \"fr_XX\": \"French\", \"gu_IN\": \"Gujarati\", \"hi_IN\": \"Hindi\",\n",
    "    \"it_IT\": \"Italian\", \"ja_XX\": \"Japanese\", \"kk_KZ\": \"Kazakh\", \"ko_KR\": \"Korean\", \"lt_LT\": \"Lithuanian\",\n",
    "    \"lv_LV\": \"Latvian\", \"my_MM\": \"Burmese\", \"ne_NP\": \"Nepali\", \"nl_XX\": \"Dutch\", \"ro_RO\": \"Romanian\",\n",
    "    \"ru_RU\": \"Russian\", \"si_LK\": \"Sinhala\", \"tr_TR\": \"Turkish\", \"vi_VN\": \"Vietnamese\", \"zh_CN\": \"Chinese (Simplified)\",\n",
    "    \"af_ZA\": \"Afrikaans\", \"az_AZ\": \"Azerbaijani\", \"bn_IN\": \"Bengali\", \"fa_IR\": \"Persian\", \"he_IL\": \"Hebrew\",\n",
    "    \"hr_HR\": \"Croatian\", \"id_ID\": \"Indonesian\", \"ka_GE\": \"Georgian\", \"km_KH\": \"Khmer\", \"mk_MK\": \"Macedonian\",\n",
    "    \"ml_IN\": \"Malayalam\", \"mn_MN\": \"Mongolian\", \"mr_IN\": \"Marathi\", \"pl_PL\": \"Polish\", \"ps_AF\": \"Pashto\",\n",
    "    \"pt_XX\": \"Portuguese\", \"sr_XX\": \"Serbian\", \"ta_IN\": \"Tamil\", \"te_IN\": \"Telugu\", \"th_TH\": \"Thai\",\n",
    "    \"tl_XX\": \"Tagalog\", \"uk_UA\": \"Ukrainian\", \"ur_PK\": \"Urdu\", \"xh_ZA\": \"Xhosa\", \"gl_ES\": \"Galician\",\n",
    "    \"sl_SI\": \"Slovenian\"\n",
    "}\n",
    "\n",
    "# Print total number of languages\n",
    "print(\"Total languages supported by the tokenizer:\", len(tokenizer.lang_code_to_id))\n",
    "\n",
    "# Print human-readable name for each language code\n",
    "for lang_code, token_id in tokenizer.lang_code_to_id.items():\n",
    "    name = lang_code_to_name.get(lang_code, \"Unknown\")\n",
    "    print(f\"Language Code: {lang_code}, Human Name: {name}, Token ID: {token_id}\")\n"
   ]
  },
  {
   "cell_type": "code",
   "execution_count": null,
   "id": "43ff54b4",
   "metadata": {},
   "outputs": [],
   "source": []
  }
 ],
 "metadata": {
  "jupytext": {
   "formats": "ipynb,py"
  },
  "kernelspec": {
   "display_name": "ashtra_mind",
   "language": "python",
   "name": "python3"
  },
  "language_info": {
   "codemirror_mode": {
    "name": "ipython",
    "version": 3
   },
   "file_extension": ".py",
   "mimetype": "text/x-python",
   "name": "python",
   "nbconvert_exporter": "python",
   "pygments_lexer": "ipython3",
   "version": "3.12.11"
  }
 },
 "nbformat": 4,
 "nbformat_minor": 5
}
