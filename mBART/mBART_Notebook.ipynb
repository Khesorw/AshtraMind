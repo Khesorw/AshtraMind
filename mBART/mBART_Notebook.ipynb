{
 "cells": [
  {
   "cell_type": "markdown",
   "id": "e718041c",
   "metadata": {},
   "source": [
    "# 1_Setup_and_Testing"
   ]
  },
  {
   "cell_type": "code",
   "execution_count": null,
   "id": "7f056607",
   "metadata": {},
   "outputs": [],
   "source": [
    "# All imports\n",
    "import sys\n",
    "import pip\n",
    "import torch\n",
    "from datasets import get_dataset_split_names, load_dataset, load_dataset_builder, get_dataset_config_names,  load_metric\n",
    "from transformers import AutoModelForSeq2SeqLM, AutoTokenizer, MBart50Tokenizer, MBartForConditionalGeneration, Seq2SeqTrainer, Seq2SeqTrainingArguments, DataCollatorForSeq2Seq, BitsAndBytesConfig\n",
    "import evaluate\n",
    "import numpy as np\n",
    "import gc\n",
    "from accelerate import Accelerator\n",
    "from peft import get_peft_model, LoraConfig, TaskType\n",
    "\n",
    "print(\"All imports are successful ✅\")\n",
    "\n",
    "print(\"--\" * 50)\n",
    "\n",
    "#---------------------------------------------------------------\n",
    "# Check Python, pip, and pytorch versions and cuda compatibility\n",
    "#---------------------------------------------------------------\n",
    "print(\"Python version:\", sys.version)\n",
    "# Print pip version\n",
    "print(\"Pip version:\", pip.__version__)\n",
    "# Print pytorch version\n",
    "print(\"Pytorch version:\", torch.__version__)\n",
    "# Print CUDA version\n",
    "if torch.cuda.is_available():\n",
    "    print(\"CUDA version:\", torch.version.cuda)\n",
    "else:\n",
    "    print(\"CUDA is not available.\")\n",
    "\n",
    "# Print GPU information\n",
    "if torch.cuda.is_available():\n",
    "    print(\"GPU is available.\")\n",
    "    print(\"Number of GPUs:\", torch.cuda.device_count())\n",
    "    for i in range(torch.cuda.device_count()):\n",
    "        print(f\"GPU {i}: {torch.cuda.get_device_name(i)}\")\n",
    "else:\n",
    "    print(\"No GPU available.\")\n",
    "\n",
    "# Check if pytorch can use CUDA\n",
    "if torch.cuda.is_available():\n",
    "    x = torch.rand(5, 3).cuda()\n",
    "    if x.is_cuda:\n",
    "        print(\"Pytorch can use CUDA ✅Tensor on GPU\")\n",
    "else:\n",
    "    print(\"Pytorch is not using CUDA.\")\n",
    "\n",
    "print(\"--\" * 50)\n",
    "# Check if evaluate is working\n",
    "!python -c \"import evaluate; print(evaluate.load('exact_match').compute(references=['hello'], predictions=['hello']))\"\n",
    "print(\"Evaluate is working ✅\")\n",
    "\n"
   ]
  },
  {
   "cell_type": "markdown",
   "id": "30206b71",
   "metadata": {},
   "source": [
    "# 2_Load_Dataset"
   ]
  },
  {
   "cell_type": "code",
   "execution_count": null,
   "id": "80dbfe1d",
   "metadata": {},
   "outputs": [],
   "source": [
    "# https://huggingface.co/docs/datasets/load_hub\n",
    "splits = get_dataset_split_names(\"rahular/itihasa\")\n",
    "print(\"Available dataset splits:\", splits)\n",
    "configs = get_dataset_config_names(\"rahular/itihasa\")\n",
    "print(\"Available dataset configurations:\", configs)"
   ]
  },
  {
   "cell_type": "code",
   "execution_count": null,
   "id": "ec7db925",
   "metadata": {},
   "outputs": [],
   "source": [
    "ds_builder = load_dataset_builder(\"rahular/itihasa\")\n",
    "\n",
    "# Inspect dataset description\n",
    "ds_builder.info.description\n",
    "\n",
    "# Inspect dataset features\n",
    "ds_builder.info.features"
   ]
  },
  {
   "cell_type": "code",
   "execution_count": null,
   "id": "dafb5cb7",
   "metadata": {
    "lines_to_next_cell": 2
   },
   "outputs": [],
   "source": [
    "\n",
    "train_dataset = load_dataset(\"rahular/itihasa\", split=\"train\")\n",
    "valid_dataset = load_dataset(\"rahular/itihasa\", split=\"validation\")\n",
    "test_dataset  = load_dataset(\"rahular/itihasa\", split=\"test\")\n",
    "print(\"Datasets loaded successfully ✅.\")\n",
    "\n",
    "print(f\"Train dataset size: {len(train_dataset)}\")\n",
    "print(f\"Validation dataset size: {len(valid_dataset)}\")\n",
    "print(f\"Test dataset size: {len(test_dataset)}\")"
   ]
  },
  {
   "cell_type": "code",
   "execution_count": null,
   "id": "cb1a17ff",
   "metadata": {},
   "outputs": [],
   "source": [
    "train_dataset[0]  # Inspect the first example in the train dataset"
   ]
  },
  {
   "cell_type": "code",
   "execution_count": null,
   "id": "195509c8",
   "metadata": {},
   "outputs": [],
   "source": [
    "test_dataset[0]  # Inspect the first example in the test dataset"
   ]
  },
  {
   "cell_type": "code",
   "execution_count": null,
   "id": "5c896d07",
   "metadata": {},
   "outputs": [],
   "source": [
    "valid_dataset[0] # Inspect the first example in the validation dataset"
   ]
  },
  {
   "cell_type": "code",
   "execution_count": null,
   "id": "0e8a56f0",
   "metadata": {},
   "outputs": [],
   "source": [
    "# Indexing the datasets\n",
    "# print(train_dataset[0])  # To see the full content of the first example\n",
    "# print(\"--\" * 50)\n",
    "# print(train_dataset[0][\"translation\"])  # To see the root of the nested dictionary\n",
    "# print(\"--\" * 50)\n",
    "# print(train_dataset[0][\"translation\"][\"en\"])  # To see the English translation of the first example\n",
    "# print(\"--\" * 50)\n",
    "# print(train_dataset[0][\"translation\"][\"sn\"])  # To see the Sanskrit translation of the first example\n",
    "# print(\"--\" * 50)\n",
    "# for i in range(3):\n",
    "#     print(f\"Example {i}: (English: {train_dataset[i]['translation']['en']}) (Sanskrit: {train_dataset[i]['translation']['sn']})\")"
   ]
  },
  {
   "cell_type": "markdown",
   "id": "ee5cd3a6",
   "metadata": {},
   "source": [
    "# 3_Modelling"
   ]
  },
  {
   "cell_type": "code",
   "execution_count": null,
   "id": "5ed4df4e",
   "metadata": {
    "lines_to_next_cell": 1
   },
   "outputs": [],
   "source": [
    "QUANT_CONFIG = BitsAndBytesConfig(load_in_8bit=True)\n",
    "\n",
    "peft_config = LoraConfig(\n",
    "    task_type=TaskType.SEQ_2_SEQ_LM,\n",
    "    inference_mode=False,\n",
    "    r=8,               # rank of LoRA matrices\n",
    "    lora_alpha=32,\n",
    "    lora_dropout=0.1,\n",
    "    target_modules=[\"q_proj\", \"v_proj\", \"k_proj\"],\n",
    ")\n",
    "\n",
    "MODEL = MBartForConditionalGeneration.from_pretrained(\n",
    "    \"facebook/mbart-large-50-many-to-many-mmt\",\n",
    "    quantization_config=QUANT_CONFIG,\n",
    "    torch_dtype=torch.float16,  # Use float16 for better performance on GPUs  \n",
    ")\n",
    "MODEL = get_peft_model(MODEL, peft_config)\n",
    "print(\"Quantize and LoRA Model loaded successfully ✅\")\n",
    "trainable_params = sum(p.numel() for p in MODEL.parameters() if p.requires_grad) \n",
    "total_params = sum(p.numel() for p in MODEL.parameters())\n",
    "print(f\"Total parameters: {total_params:,}\")\n",
    "print(f\"✅ Trainable parameters: {trainable_params:,}\")\n",
    "print(f\"💡 Trainable ratio: {100 * trainable_params / total_params:.4f}%\")\n",
    "for name, param in MODEL.named_parameters():\n",
    "    if param.requires_grad:\n",
    "        print(name, param.shape)\n",
    "\n",
    "TOKENIZER = MBart50Tokenizer.from_pretrained(\"facebook/mbart-large-50-many-to-many-mmt\")\n",
    "TOKENIZER.src_lang = \"en_XX\"\n",
    "TOKENIZER.tgt_lang = \"hi_IN\"  # Setting Hindi token id as a proxy for Sanskrit\n",
    "\n",
    "TEXT_TO_TRANSLATE = \"For one who has conquered the mind, the mind is the best of friends; but for one who has failed to do so, his very mind will be the greatest enemy.\""
   ]
  },
  {
   "cell_type": "code",
   "execution_count": null,
   "id": "20f1cbca",
   "metadata": {},
   "outputs": [],
   "source": [
    "def translate_text(text, model=MODEL, tokenizer=TOKENIZER, src_lang=TOKENIZER.src_lang, tgt_lang=TOKENIZER.tgt_lang, skip_special_tokens=True):\n",
    "\n",
    "    inputs = tokenizer(text, return_tensors=\"pt\")\n",
    "\n",
    "    # Force decoder to use target language\n",
    "    output_ids = model.generate(\n",
    "        **inputs,\n",
    "        forced_bos_token_id=tokenizer.lang_code_to_id[tgt_lang]\n",
    "    )\n",
    "\n",
    "    return tokenizer.decode(output_ids[0], skip_special_tokens=skip_special_tokens)\n",
    "\n",
    "try:\n",
    "    translated_text = translate_text(TEXT_TO_TRANSLATE)\n",
    "    print(f\"Model and Tokenizer intialized successfully ✅\")\n",
    "    print(f\"Original text: {TEXT_TO_TRANSLATE}\")\n",
    "    print(f\"Translated text: {translated_text}\")\n",
    "except Exception as e:\n",
    "    print(f\"Error occurred during translation: {e}\")"
   ]
  },
  {
   "cell_type": "code",
   "execution_count": null,
   "id": "ba7a363e",
   "metadata": {
    "lines_to_next_cell": 2
   },
   "outputs": [],
   "source": [
    "# Human-readable language names mapped to mBART-50 language codes\n",
    "# lang_code_to_name = {\n",
    "#     \"ar_AR\": \"Arabic\", \"cs_CZ\": \"Czech\", \"de_DE\": \"German\", \"en_XX\": \"English\", \"es_XX\": \"Spanish\",\n",
    "#     \"et_EE\": \"Estonian\", \"fi_FI\": \"Finnish\", \"fr_XX\": \"French\", \"gu_IN\": \"Gujarati\", \"hi_IN\": \"Hindi\",\n",
    "#     \"it_IT\": \"Italian\", \"ja_XX\": \"Japanese\", \"kk_KZ\": \"Kazakh\", \"ko_KR\": \"Korean\", \"lt_LT\": \"Lithuanian\",\n",
    "#     \"lv_LV\": \"Latvian\", \"my_MM\": \"Burmese\", \"ne_NP\": \"Nepali\", \"nl_XX\": \"Dutch\", \"ro_RO\": \"Romanian\",\n",
    "#     \"ru_RU\": \"Russian\", \"si_LK\": \"Sinhala\", \"tr_TR\": \"Turkish\", \"vi_VN\": \"Vietnamese\", \"zh_CN\": \"Chinese (Simplified)\",\n",
    "#     \"af_ZA\": \"Afrikaans\", \"az_AZ\": \"Azerbaijani\", \"bn_IN\": \"Bengali\", \"fa_IR\": \"Persian\", \"he_IL\": \"Hebrew\",\n",
    "#     \"hr_HR\": \"Croatian\", \"id_ID\": \"Indonesian\", \"ka_GE\": \"Georgian\", \"km_KH\": \"Khmer\", \"mk_MK\": \"Macedonian\",\n",
    "#     \"ml_IN\": \"Malayalam\", \"mn_MN\": \"Mongolian\", \"mr_IN\": \"Marathi\", \"pl_PL\": \"Polish\", \"ps_AF\": \"Pashto\",\n",
    "#     \"pt_XX\": \"Portuguese\", \"sr_XX\": \"Serbian\", \"ta_IN\": \"Tamil\", \"te_IN\": \"Telugu\", \"th_TH\": \"Thai\",\n",
    "#     \"tl_XX\": \"Tagalog\", \"uk_UA\": \"Ukrainian\", \"ur_PK\": \"Urdu\", \"xh_ZA\": \"Xhosa\", \"gl_ES\": \"Galician\",\n",
    "#     \"sl_SI\": \"Slovenian\"\n",
    "# }\n",
    "\n",
    "# # Print total number of languages\n",
    "# print(\"Total languages supported by the tokenizer:\", len(TOKENIZER.lang_code_to_id))\n",
    "\n",
    "# # Print human-readable name for each language code\n",
    "# for lang_code, token_id in TOKENIZER.lang_code_to_id.items():\n",
    "#     name = lang_code_to_name.get(lang_code, \"Unknown\")\n",
    "#     print(f\"Language Code: {lang_code}, Human Name: {name}, Token ID: {token_id}\")"
   ]
  },
  {
   "cell_type": "markdown",
   "id": "355dedee",
   "metadata": {},
   "source": [
    "# 4_Preprocessing"
   ]
  },
  {
   "cell_type": "code",
   "execution_count": null,
   "id": "41eb4dab",
   "metadata": {},
   "outputs": [],
   "source": [
    "# Calculate the length of input IDs for each Sanskrit translation in the training dataset\n",
    "# This will help to select max length for model inputs in the preprocess function\n",
    "# Extract list of Sanskrit texts\n",
    "# Sanskrit contains lot of samasa (compound words) which can be long therefore appropriate to check token lengths\n",
    "sanskrit_texts = [item[\"translation\"][\"sn\"] for item in train_dataset]\n",
    "\n",
    "# Now calculate token lengths\n",
    "token_lens = [len(TOKENIZER(text)[\"input_ids\"]) for text in sanskrit_texts]\n",
    "\n",
    "# Check maximum and top 10 longest\n",
    "print(\"Max length:\", max(token_lens))\n",
    "print(\"Top 10 longest:\", sorted(token_lens)[-10:])"
   ]
  },
  {
   "cell_type": "code",
   "execution_count": null,
   "id": "5fc90eb9",
   "metadata": {
    "lines_to_next_cell": 2
   },
   "outputs": [],
   "source": [
    "def preprocess_function(examples):\n",
    "    inputs = [t[\"en\"] for t in examples[\"translation\"]]\n",
    "    targets = [t[\"sn\"] for t in examples[\"translation\"]]  # Sanskrit texts\n",
    "\n",
    "    model_inputs = TOKENIZER(inputs, max_length=8, truncation=True, padding=\"longest\")\n",
    "\n",
    "    # tokenize targets, set padding as longest which saves memory and pads only to the longest target in the batch\n",
    "    labels = TOKENIZER(targets, max_length=8, truncation=True, padding=\"longest\")\n",
    "\n",
    "    model_inputs[\"labels\"] = labels[\"input_ids\"]\n",
    "    return model_inputs\n",
    "\n",
    "tokenized_train = train_dataset.map(preprocess_function, batched=True)\n",
    "\n",
    "# Tokenize the validation dataset\n",
    "tokenized_valid = valid_dataset.map(preprocess_function, batched=True)\n",
    "\n",
    "# Tokenize the test dataset\n",
    "tokenized_test = test_dataset.map(preprocess_function, batched=True)\n",
    "\n",
    "print(\"Tokenization complete for train, validation, and test datasets ✅\")"
   ]
  },
  {
   "cell_type": "markdown",
   "id": "ea190bd9",
   "metadata": {},
   "source": [
    "# 5_Training"
   ]
  },
  {
   "cell_type": "code",
   "execution_count": null,
   "id": "0302ad20",
   "metadata": {},
   "outputs": [],
   "source": [
    "# Data collator for Seq2Seq models used for padding and creating attention masks\n",
    "data_collator = DataCollatorForSeq2Seq(tokenizer=TOKENIZER, model=MODEL,padding=\"longest\")\n",
    "print(\"Data collator created successfully ✅\")"
   ]
  },
  {
   "cell_type": "code",
   "execution_count": null,
   "id": "78a1989b",
   "metadata": {},
   "outputs": [],
   "source": [
    "bleu = evaluate.load(\"bleu\")\n",
    "def compute_metrics(eval_pred):\n",
    "    predictions, labels = eval_pred\n",
    "\n",
    "    # Decode predictions\n",
    "    decoded_preds = TOKENIZER.batch_decode(predictions, skip_special_tokens=True)\n",
    "\n",
    "    # Replace -100 in the labels with pad_token_id, then decode\n",
    "    labels = np.where(labels != -100, labels, TOKENIZER.pad_token_id)\n",
    "    decoded_labels = TOKENIZER.batch_decode(labels, skip_special_tokens=True)\n",
    "\n",
    "    # Clean up spacing\n",
    "    decoded_preds = [pred.strip() for pred in decoded_preds]\n",
    "    decoded_labels = [[label.strip()] for label in decoded_labels]  # wrap each label in a list\n",
    "\n",
    "    # Compute BLEU\n",
    "    result = bleu.compute(predictions=decoded_preds, references=decoded_labels)\n",
    "\n",
    "    return {\"bleu\": result[\"bleu\"]}\n",
    "\n",
    "\n",
    "print(\"Metrics function created successfully ✅\")"
   ]
  },
  {
   "cell_type": "code",
   "execution_count": null,
   "id": "6f521c08",
   "metadata": {},
   "outputs": [],
   "source": [
    "training_args = Seq2SeqTrainingArguments(\n",
    "    output_dir=\"./results\",\n",
    "    eval_strategy=\"steps\",\n",
    "    eval_steps=500,\n",
    "    per_device_train_batch_size=8,\n",
    "    per_device_eval_batch_size=16,\n",
    "    gradient_accumulation_steps=2,\n",
    "    learning_rate=5e-5,\n",
    "    num_train_epochs=1,\n",
    "    fp16=True,\n",
    "    weight_decay=0.01,\n",
    "    save_total_limit=2,\n",
    "    save_steps=500,\n",
    "    logging_dir=\"./logs\",\n",
    "    logging_steps=100,\n",
    "    optim=\"adamw_torch_fused\",\n",
    "    predict_with_generate=True,  # important for seq2seq tasks\n",
    ")\n",
    "print(\"Training arguments set successfully ✅\")"
   ]
  },
  {
   "cell_type": "code",
   "execution_count": null,
   "id": "6f749143",
   "metadata": {},
   "outputs": [],
   "source": [
    "trainer = Seq2SeqTrainer(\n",
    "    model=MODEL,\n",
    "    args=training_args,\n",
    "    train_dataset=tokenized_train,\n",
    "    eval_dataset=tokenized_valid,\n",
    "    processing_class=TOKENIZER,\n",
    "    data_collator=data_collator,\n",
    "    compute_metrics=compute_metrics,\n",
    ")"
   ]
  },
  {
   "cell_type": "code",
   "execution_count": null,
   "id": "1db102f4",
   "metadata": {},
   "outputs": [],
   "source": [
    "# Clear CUDA cache to free up memory\n",
    "gc.collect()\n",
    "torch.cuda.empty_cache()\n",
    "print(\"CUDA cache cleared ✅\")"
   ]
  },
  {
   "cell_type": "code",
   "execution_count": null,
   "id": "3117bb56",
   "metadata": {
    "lines_to_next_cell": 2
   },
   "outputs": [],
   "source": [
    "accelerator = Accelerator()\n",
    "print(f\"Mixed precision: {accelerator.mixed_precision}\")"
   ]
  },
  {
   "cell_type": "code",
   "execution_count": null,
   "id": "43ab0ac2",
   "metadata": {},
   "outputs": [],
   "source": [
    "# Train the model\n",
    "trainer.train()"
   ]
  },
  {
   "cell_type": "markdown",
   "id": "67b32b15",
   "metadata": {},
   "source": [
    "# 6_Evaluation"
   ]
  },
  {
   "cell_type": "code",
   "execution_count": null,
   "id": "bbcfb284",
   "metadata": {},
   "outputs": [],
   "source": [
    "# Evaluate the model on the test dataset"
   ]
  }
 ],
 "metadata": {
  "jupytext": {
   "formats": "ipynb,py:percent"
  },
  "kernelspec": {
   "display_name": "ashtra_mind",
   "language": "python",
   "name": "python3"
  },
  "language_info": {
   "codemirror_mode": {
    "name": "ipython",
    "version": 3
   },
   "file_extension": ".py",
   "mimetype": "text/x-python",
   "name": "python",
   "nbconvert_exporter": "python",
   "pygments_lexer": "ipython3",
   "version": "3.12.11"
  }
 },
 "nbformat": 4,
 "nbformat_minor": 5
}
