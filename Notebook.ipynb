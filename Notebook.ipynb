{
 "cells": [
  {
   "cell_type": "markdown",
   "id": "e718041c",
   "metadata": {},
   "source": [
    "# 1_Setup_and_Testing"
   ]
  },
  {
   "cell_type": "code",
   "execution_count": 16,
   "id": "7f056607",
   "metadata": {},
   "outputs": [
    {
     "name": "stdout",
     "output_type": "stream",
     "text": [
      "All imports are successful ✅\n",
      "----------------------------------------------------------------------------------------------------\n",
      "Python version: 3.12.11 | packaged by Anaconda, Inc. | (main, Jun  5 2025, 13:09:17) [GCC 11.2.0]\n",
      "Pip version: 25.1\n",
      "Pytorch version: 2.7.0+cu126\n",
      "CUDA version: 12.6\n",
      "GPU is available.\n",
      "Number of GPUs: 2\n",
      "GPU 0: NVIDIA GeForce RTX 4070\n",
      "GPU 1: NVIDIA GeForce RTX 4070\n",
      "Pytorch can use CUDA ✅Tensor on GPU\n"
     ]
    }
   ],
   "source": [
    "# All imports\n",
    "\n",
    "import sys\n",
    "import pip\n",
    "import torch\n",
    "from datasets import get_dataset_split_names, load_dataset, load_dataset_builder, get_dataset_config_names\n",
    "print(\"All imports are successful ✅\")\n",
    "\n",
    "print(\"--\" * 50)\n",
    "\n",
    "#---------------------------------------------------------------\n",
    "# Check Python, pip, and pytorch versions and cuda compatibility\n",
    "#---------------------------------------------------------------\n",
    "print(\"Python version:\", sys.version)\n",
    "# Print pip version\n",
    "print(\"Pip version:\", pip.__version__)\n",
    "# Print pytorch version\n",
    "print(\"Pytorch version:\", torch.__version__)\n",
    "# Print CUDA version\n",
    "if torch.cuda.is_available():\n",
    "    print(\"CUDA version:\", torch.version.cuda)\n",
    "else:\n",
    "    print(\"CUDA is not available.\")\n",
    "\n",
    "# Print GPU information\n",
    "if torch.cuda.is_available():\n",
    "    print(\"GPU is available.\")\n",
    "    print(\"Number of GPUs:\", torch.cuda.device_count())\n",
    "    for i in range(torch.cuda.device_count()):\n",
    "        print(f\"GPU {i}: {torch.cuda.get_device_name(i)}\")\n",
    "else:\n",
    "    print(\"No GPU available.\")\n",
    "\n",
    "# Check if pytorch can use CUDA\n",
    "if torch.cuda.is_available():\n",
    "    x = torch.rand(5, 3).cuda()\n",
    "    if x.is_cuda:\n",
    "        print(\"Pytorch can use CUDA ✅Tensor on GPU\")\n",
    "else:\n",
    "    print(\"Pytorch is not using CUDA.\")\n"
   ]
  },
  {
   "cell_type": "markdown",
   "id": "30206b71",
   "metadata": {},
   "source": [
    "# 2_Load_Dataset_and_Preprocess"
   ]
  },
  {
   "cell_type": "code",
   "execution_count": 20,
   "id": "80dbfe1d",
   "metadata": {},
   "outputs": [
    {
     "name": "stdout",
     "output_type": "stream",
     "text": [
      "Available dataset splits: ['train', 'validation', 'test']\n",
      "Available dataset configurations: ['Itihasa']\n"
     ]
    }
   ],
   "source": [
    "# https://huggingface.co/docs/datasets/load_hub\n",
    "splits = get_dataset_split_names(\"rahular/itihasa\")\n",
    "print(\"Available dataset splits:\", splits)\n",
    "configs = get_dataset_config_names(\"rahular/itihasa\")\n",
    "print(\"Available dataset configurations:\", configs)"
   ]
  },
  {
   "cell_type": "code",
   "execution_count": 9,
   "id": "ec7db925",
   "metadata": {},
   "outputs": [
    {
     "data": {
      "text/plain": [
       "{'translation': Translation(languages=['sn', 'en'], id=None)}"
      ]
     },
     "execution_count": 9,
     "metadata": {},
     "output_type": "execute_result"
    }
   ],
   "source": [
    "ds_builder = load_dataset_builder(\"rahular/itihasa\")\n",
    "\n",
    "# Inspect dataset description\n",
    "ds_builder.info.description\n",
    "\n",
    "# Inspect dataset features\n",
    "ds_builder.info.features"
   ]
  },
  {
   "cell_type": "code",
   "execution_count": 12,
   "id": "dafb5cb7",
   "metadata": {},
   "outputs": [
    {
     "name": "stdout",
     "output_type": "stream",
     "text": [
      "Datasets loaded successfully ✅.\n",
      "Train dataset size: 75162\n",
      "Validation dataset size: 6149\n",
      "Test dataset size: 11722\n"
     ]
    }
   ],
   "source": [
    "from datasets import load_dataset\n",
    "\n",
    "train_dataset = load_dataset(\"rahular/itihasa\", split=\"train\")\n",
    "valid_dataset = load_dataset(\"rahular/itihasa\", split=\"validation\")\n",
    "test_dataset  = load_dataset(\"rahular/itihasa\", split=\"test\")\n",
    "print(\"Datasets loaded successfully ✅.\")\n",
    "\n",
    "print(f\"Train dataset size: {len(train_dataset)}\")\n",
    "print(f\"Validation dataset size: {len(valid_dataset)}\")\n",
    "print(f\"Test dataset size: {len(test_dataset)}\")\n"
   ]
  }
 ],
 "metadata": {
  "kernelspec": {
   "display_name": "ashtra_mind",
   "language": "python",
   "name": "python3"
  },
  "language_info": {
   "codemirror_mode": {
    "name": "ipython",
    "version": 3
   },
   "file_extension": ".py",
   "mimetype": "text/x-python",
   "name": "python",
   "nbconvert_exporter": "python",
   "pygments_lexer": "ipython3",
   "version": "3.12.11"
  }
 },
 "nbformat": 4,
 "nbformat_minor": 5
}
